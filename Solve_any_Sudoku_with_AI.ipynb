{
 "cells": [
  {
   "cell_type": "markdown",
   "metadata": {
    "deletable": true,
    "editable": true
   },
   "source": [
    "# Solve any Sudoku with AI"
   ]
  },
  {
   "cell_type": "markdown",
   "metadata": {
    "deletable": true,
    "editable": true
   },
   "source": [
    "## Draw the grid"
   ]
  },
  {
   "cell_type": "code",
   "execution_count": 10,
   "metadata": {
    "collapsed": true,
    "deletable": true,
    "editable": true
   },
   "outputs": [],
   "source": [
    "rows = 'ABCDEFGHI'\n",
    "cols = '123456789'"
   ]
  },
  {
   "cell_type": "code",
   "execution_count": 11,
   "metadata": {
    "collapsed": false,
    "deletable": true,
    "editable": true
   },
   "outputs": [
    {
     "name": "stdout",
     "output_type": "stream",
     "text": [
      "['A1', 'A2', 'A3', 'A4', 'A5', 'A6', 'A7', 'A8', 'A9', 'B1', 'B2', 'B3', 'B4', 'B5', 'B6', 'B7', 'B8', 'B9', 'C1', 'C2', 'C3', 'C4', 'C5', 'C6', 'C7', 'C8', 'C9', 'D1', 'D2', 'D3', 'D4', 'D5', 'D6', 'D7', 'D8', 'D9', 'E1', 'E2', 'E3', 'E4', 'E5', 'E6', 'E7', 'E8', 'E9', 'F1', 'F2', 'F3', 'F4', 'F5', 'F6', 'F7', 'F8', 'F9', 'G1', 'G2', 'G3', 'G4', 'G5', 'G6', 'G7', 'G8', 'G9', 'H1', 'H2', 'H3', 'H4', 'H5', 'H6', 'H7', 'H8', 'H9', 'I1', 'I2', 'I3', 'I4', 'I5', 'I6', 'I7', 'I8', 'I9']\n",
      "81\n"
     ]
    }
   ],
   "source": [
    "def cross(a, b):\n",
    "      return [s+t for s in a for t in b]\n",
    "    \n",
    "boxes = cross(rows, cols)   \n",
    "\n",
    "print(boxes)\n",
    "print(len(boxes))"
   ]
  },
  {
   "cell_type": "code",
   "execution_count": 12,
   "metadata": {
    "collapsed": false,
    "deletable": true,
    "editable": true
   },
   "outputs": [
    {
     "name": "stdout",
     "output_type": "stream",
     "text": [
      "[['A1', 'B2', 'C3', 'D4', 'E5', 'F6', 'G7', 'H8', 'I9'], ['A9', 'B8', 'C7', 'D6', 'E5', 'F4', 'G3', 'H2', 'I1']]\n",
      "2\n"
     ]
    }
   ],
   "source": [
    "diagonal_units = [[rows[i] + cols[i] for i in range(len(rows))]] + [[rows[i]+cols[::-1][i] for i in range(len(rows))]]\n",
    "\n",
    "print(diagonal_units)\n",
    "print(len(diagonal_units))"
   ]
  },
  {
   "cell_type": "code",
   "execution_count": 13,
   "metadata": {
    "collapsed": false,
    "deletable": true,
    "editable": true
   },
   "outputs": [
    {
     "name": "stdout",
     "output_type": "stream",
     "text": [
      "[['A1', 'A2', 'A3', 'A4', 'A5', 'A6', 'A7', 'A8', 'A9'], ['B1', 'B2', 'B3', 'B4', 'B5', 'B6', 'B7', 'B8', 'B9'], ['C1', 'C2', 'C3', 'C4', 'C5', 'C6', 'C7', 'C8', 'C9'], ['D1', 'D2', 'D3', 'D4', 'D5', 'D6', 'D7', 'D8', 'D9'], ['E1', 'E2', 'E3', 'E4', 'E5', 'E6', 'E7', 'E8', 'E9'], ['F1', 'F2', 'F3', 'F4', 'F5', 'F6', 'F7', 'F8', 'F9'], ['G1', 'G2', 'G3', 'G4', 'G5', 'G6', 'G7', 'G8', 'G9'], ['H1', 'H2', 'H3', 'H4', 'H5', 'H6', 'H7', 'H8', 'H9'], ['I1', 'I2', 'I3', 'I4', 'I5', 'I6', 'I7', 'I8', 'I9']]\n"
     ]
    }
   ],
   "source": [
    "row_units = [cross(r, cols) for r in rows]\n",
    "\n",
    "print(row_units)"
   ]
  },
  {
   "cell_type": "code",
   "execution_count": 14,
   "metadata": {
    "collapsed": false,
    "deletable": true,
    "editable": true
   },
   "outputs": [
    {
     "name": "stdout",
     "output_type": "stream",
     "text": [
      "[['A1', 'B1', 'C1', 'D1', 'E1', 'F1', 'G1', 'H1', 'I1'], ['A2', 'B2', 'C2', 'D2', 'E2', 'F2', 'G2', 'H2', 'I2'], ['A3', 'B3', 'C3', 'D3', 'E3', 'F3', 'G3', 'H3', 'I3'], ['A4', 'B4', 'C4', 'D4', 'E4', 'F4', 'G4', 'H4', 'I4'], ['A5', 'B5', 'C5', 'D5', 'E5', 'F5', 'G5', 'H5', 'I5'], ['A6', 'B6', 'C6', 'D6', 'E6', 'F6', 'G6', 'H6', 'I6'], ['A7', 'B7', 'C7', 'D7', 'E7', 'F7', 'G7', 'H7', 'I7'], ['A8', 'B8', 'C8', 'D8', 'E8', 'F8', 'G8', 'H8', 'I8'], ['A9', 'B9', 'C9', 'D9', 'E9', 'F9', 'G9', 'H9', 'I9']]\n"
     ]
    }
   ],
   "source": [
    "column_units = [cross(rows, c) for c in cols]\n",
    "\n",
    "print(column_units)"
   ]
  },
  {
   "cell_type": "code",
   "execution_count": 15,
   "metadata": {
    "collapsed": false,
    "deletable": true,
    "editable": true
   },
   "outputs": [
    {
     "name": "stdout",
     "output_type": "stream",
     "text": [
      "[['A1', 'A2', 'A3', 'B1', 'B2', 'B3', 'C1', 'C2', 'C3'], ['A4', 'A5', 'A6', 'B4', 'B5', 'B6', 'C4', 'C5', 'C6'], ['A7', 'A8', 'A9', 'B7', 'B8', 'B9', 'C7', 'C8', 'C9'], ['D1', 'D2', 'D3', 'E1', 'E2', 'E3', 'F1', 'F2', 'F3'], ['D4', 'D5', 'D6', 'E4', 'E5', 'E6', 'F4', 'F5', 'F6'], ['D7', 'D8', 'D9', 'E7', 'E8', 'E9', 'F7', 'F8', 'F9'], ['G1', 'G2', 'G3', 'H1', 'H2', 'H3', 'I1', 'I2', 'I3'], ['G4', 'G5', 'G6', 'H4', 'H5', 'H6', 'I4', 'I5', 'I6'], ['G7', 'G8', 'G9', 'H7', 'H8', 'H9', 'I7', 'I8', 'I9']]\n",
      "9\n"
     ]
    }
   ],
   "source": [
    "square_units = [cross(rs, cs) for rs in ('ABC','DEF','GHI') for cs in ('123','456','789')]\n",
    "\n",
    "print(square_units)\n",
    "print(len(square_units))"
   ]
  },
  {
   "cell_type": "code",
   "execution_count": 23,
   "metadata": {
    "collapsed": false,
    "deletable": true,
    "editable": true
   },
   "outputs": [
    {
     "name": "stdout",
     "output_type": "stream",
     "text": [
      "print unitlist: \n",
      " [['A1', 'A2', 'A3', 'A4', 'A5', 'A6', 'A7', 'A8', 'A9'], ['B1', 'B2', 'B3', 'B4', 'B5', 'B6', 'B7', 'B8', 'B9'], ['C1', 'C2', 'C3', 'C4', 'C5', 'C6', 'C7', 'C8', 'C9'], ['D1', 'D2', 'D3', 'D4', 'D5', 'D6', 'D7', 'D8', 'D9'], ['E1', 'E2', 'E3', 'E4', 'E5', 'E6', 'E7', 'E8', 'E9'], ['F1', 'F2', 'F3', 'F4', 'F5', 'F6', 'F7', 'F8', 'F9'], ['G1', 'G2', 'G3', 'G4', 'G5', 'G6', 'G7', 'G8', 'G9'], ['H1', 'H2', 'H3', 'H4', 'H5', 'H6', 'H7', 'H8', 'H9'], ['I1', 'I2', 'I3', 'I4', 'I5', 'I6', 'I7', 'I8', 'I9'], ['A1', 'B1', 'C1', 'D1', 'E1', 'F1', 'G1', 'H1', 'I1'], ['A2', 'B2', 'C2', 'D2', 'E2', 'F2', 'G2', 'H2', 'I2'], ['A3', 'B3', 'C3', 'D3', 'E3', 'F3', 'G3', 'H3', 'I3'], ['A4', 'B4', 'C4', 'D4', 'E4', 'F4', 'G4', 'H4', 'I4'], ['A5', 'B5', 'C5', 'D5', 'E5', 'F5', 'G5', 'H5', 'I5'], ['A6', 'B6', 'C6', 'D6', 'E6', 'F6', 'G6', 'H6', 'I6'], ['A7', 'B7', 'C7', 'D7', 'E7', 'F7', 'G7', 'H7', 'I7'], ['A8', 'B8', 'C8', 'D8', 'E8', 'F8', 'G8', 'H8', 'I8'], ['A9', 'B9', 'C9', 'D9', 'E9', 'F9', 'G9', 'H9', 'I9'], ['A1', 'A2', 'A3', 'B1', 'B2', 'B3', 'C1', 'C2', 'C3'], ['A4', 'A5', 'A6', 'B4', 'B5', 'B6', 'C4', 'C5', 'C6'], ['A7', 'A8', 'A9', 'B7', 'B8', 'B9', 'C7', 'C8', 'C9'], ['D1', 'D2', 'D3', 'E1', 'E2', 'E3', 'F1', 'F2', 'F3'], ['D4', 'D5', 'D6', 'E4', 'E5', 'E6', 'F4', 'F5', 'F6'], ['D7', 'D8', 'D9', 'E7', 'E8', 'E9', 'F7', 'F8', 'F9'], ['G1', 'G2', 'G3', 'H1', 'H2', 'H3', 'I1', 'I2', 'I3'], ['G4', 'G5', 'G6', 'H4', 'H5', 'H6', 'I4', 'I5', 'I6'], ['G7', 'G8', 'G9', 'H7', 'H8', 'H9', 'I7', 'I8', 'I9'], ['A1', 'B2', 'C3', 'D4', 'E5', 'F6', 'G7', 'H8', 'I9'], ['A9', 'B8', 'C7', 'D6', 'E5', 'F4', 'G3', 'H2', 'I1']]\n",
      "len unit list:  29\n",
      "unitlist first row:  ['A1', 'A2', 'A3', 'A4', 'A5', 'A6', 'A7', 'A8', 'A9']\n",
      "unitlist first col:  ['A1', 'B1', 'C1', 'D1', 'E1', 'F1', 'G1', 'H1', 'I1']\n",
      "unitlist first square:  ['A1', 'A2', 'A3', 'B1', 'B2', 'B3', 'C1', 'C2', 'C3']\n",
      "unitlist lenght:  29\n",
      "['A1', 'A2', 'A3', 'A4', 'A5', 'A6', 'A7', 'A8', 'A9']\n",
      "['B1', 'B2', 'B3', 'B4', 'B5', 'B6', 'B7', 'B8', 'B9']\n",
      "['C1', 'C2', 'C3', 'C4', 'C5', 'C6', 'C7', 'C8', 'C9']\n",
      "['D1', 'D2', 'D3', 'D4', 'D5', 'D6', 'D7', 'D8', 'D9']\n",
      "['E1', 'E2', 'E3', 'E4', 'E5', 'E6', 'E7', 'E8', 'E9']\n",
      "['F1', 'F2', 'F3', 'F4', 'F5', 'F6', 'F7', 'F8', 'F9']\n",
      "['G1', 'G2', 'G3', 'G4', 'G5', 'G6', 'G7', 'G8', 'G9']\n",
      "['H1', 'H2', 'H3', 'H4', 'H5', 'H6', 'H7', 'H8', 'H9']\n",
      "['I1', 'I2', 'I3', 'I4', 'I5', 'I6', 'I7', 'I8', 'I9']\n",
      "['A1', 'B1', 'C1', 'D1', 'E1', 'F1', 'G1', 'H1', 'I1']\n",
      "['A2', 'B2', 'C2', 'D2', 'E2', 'F2', 'G2', 'H2', 'I2']\n",
      "['A3', 'B3', 'C3', 'D3', 'E3', 'F3', 'G3', 'H3', 'I3']\n",
      "['A4', 'B4', 'C4', 'D4', 'E4', 'F4', 'G4', 'H4', 'I4']\n",
      "['A5', 'B5', 'C5', 'D5', 'E5', 'F5', 'G5', 'H5', 'I5']\n",
      "['A6', 'B6', 'C6', 'D6', 'E6', 'F6', 'G6', 'H6', 'I6']\n",
      "['A7', 'B7', 'C7', 'D7', 'E7', 'F7', 'G7', 'H7', 'I7']\n",
      "['A8', 'B8', 'C8', 'D8', 'E8', 'F8', 'G8', 'H8', 'I8']\n",
      "['A9', 'B9', 'C9', 'D9', 'E9', 'F9', 'G9', 'H9', 'I9']\n",
      "['A1', 'A2', 'A3', 'B1', 'B2', 'B3', 'C1', 'C2', 'C3']\n",
      "['A4', 'A5', 'A6', 'B4', 'B5', 'B6', 'C4', 'C5', 'C6']\n",
      "['A7', 'A8', 'A9', 'B7', 'B8', 'B9', 'C7', 'C8', 'C9']\n",
      "['D1', 'D2', 'D3', 'E1', 'E2', 'E3', 'F1', 'F2', 'F3']\n",
      "['D4', 'D5', 'D6', 'E4', 'E5', 'E6', 'F4', 'F5', 'F6']\n",
      "['D7', 'D8', 'D9', 'E7', 'E8', 'E9', 'F7', 'F8', 'F9']\n",
      "['G1', 'G2', 'G3', 'H1', 'H2', 'H3', 'I1', 'I2', 'I3']\n",
      "['G4', 'G5', 'G6', 'H4', 'H5', 'H6', 'I4', 'I5', 'I6']\n",
      "['G7', 'G8', 'G9', 'H7', 'H8', 'H9', 'I7', 'I8', 'I9']\n",
      "['A1', 'B2', 'C3', 'D4', 'E5', 'F6', 'G7', 'H8', 'I9']\n",
      "['A9', 'B8', 'C7', 'D6', 'E5', 'F4', 'G3', 'H2', 'I1']\n"
     ]
    }
   ],
   "source": [
    "# In order to complete a Sudoku, you have to fill row, column and square unit for each box\n",
    "\n",
    "unitlist = row_units + column_units + square_units  + diagonal_units\n",
    "\n",
    "print(\"print unitlist: \\n\", unitlist) # rows + cols + squares + diagonals \n",
    "print(\"len unit list: \", len(unitlist))\n",
    "print(\"unitlist first row: \", unitlist[0])\n",
    "print(\"unitlist first col: \", unitlist[9])\n",
    "print(\"unitlist first square: \", unitlist[18])\n",
    "print(\"unitlist lenght: \", len(unitlist))\n",
    "\n",
    "for unit in unitlist:\n",
    "    print(list)"
   ]
  },
  {
   "cell_type": "code",
   "execution_count": 28,
   "metadata": {
    "collapsed": false,
    "deletable": true,
    "editable": true
   },
   "outputs": [
    {
     "name": "stdout",
     "output_type": "stream",
     "text": [
      "\n",
      "Unsorted peers of A1 (in diagonal):  {'A2', 'D4', 'E1', 'A8', 'G1', 'D1', 'H8', 'B2', 'I1', 'E5', 'B3', 'F1', 'A5', 'A4', 'C2', 'I9', 'B1', 'C3', 'C1', 'A3', 'G7', 'A9', 'F6', 'A7', 'A6', 'H1'}\n",
      "\n",
      "Number of peers of A1 (in diagonal):  26\n",
      "\n",
      "Unsorted peers of B1 (not in diagonal):  {'A1', 'A2', 'E1', 'G1', 'B4', 'B6', 'B7', 'D1', 'B2', 'I1', 'B3', 'F1', 'B5', 'C2', 'B8', 'C3', 'C1', 'B9', 'A3', 'H1'}\n",
      "\n",
      "Number of peers of B1 (not in diagonal):  20\n",
      "\n",
      "Unsorted peers of D4 (in diagonal):  {'A1', 'D6', 'D7', 'D5', 'B4', 'D1', 'H8', 'B2', 'E4', 'D8', 'E5', 'D3', 'A4', 'G4', 'H4', 'F4', 'I9', 'D2', 'C3', 'G7', 'I4', 'D9', 'E6', 'F5', 'F6', 'C4'}\n",
      "\n",
      "Number of peers of D4 (in diagonal):  26\n",
      "\n",
      "Peers for E2:  [['E1', 'E2', 'E3', 'E4', 'E5', 'E6', 'E7', 'E8', 'E9'], ['A2', 'B2', 'C2', 'D2', 'E2', 'F2', 'G2', 'H2', 'I2'], ['D1', 'D2', 'D3', 'E1', 'E2', 'E3', 'F1', 'F2', 'F3']] 3\n",
      "\n",
      "Peers in colum E2:  {'I2', 'A2', 'F2', 'E1', 'D1', 'B2', 'E4', 'E5', 'F3', 'D3', 'F1', 'E9', 'C2', 'G2', 'E7', 'D2', 'H2', 'E3', 'E6', 'E8'} 20\n"
     ]
    }
   ],
   "source": [
    "units = dict((s, [u for u in unitlist if s in u]) for s in boxes)\n",
    "\n",
    "peers = dict((s, set(sum(units[s],[])) - set([s])) for s in boxes)\n",
    "\n",
    "# Remember dicts doesn't keep order\n",
    "\n",
    "print(\"\\nUnsorted peers of A1 (in diagonal): \", peers['A1'])\n",
    "print(\"\\nNumber of peers of A1 (in diagonal): \", len(peers['A1']))\n",
    "\n",
    "print(\"\\nUnsorted peers of B1 (not in diagonal): \", peers['B1'])\n",
    "print(\"\\nNumber of peers of B1 (not in diagonal): \", len(peers['B1']))\n",
    "\n",
    "print(\"\\nUnsorted peers of D4 (in diagonal): \", peers['D4'])\n",
    "print(\"\\nNumber of peers of D4 (in diagonal): \", len(peers['D4']))\n",
    "\n",
    "print(\"\\nPeers for E2: \", units['E2'], len(units['E2']))\n",
    "print(\"\\nPeers in colum E2: \", peers['E2'], len(peers['E2']))"
   ]
  },
  {
   "cell_type": "code",
   "execution_count": 18,
   "metadata": {
    "collapsed": true,
    "deletable": true,
    "editable": true
   },
   "outputs": [],
   "source": [
    "assert len(boxes) == 81, \"Less or more boxes than 81\"\n",
    "assert len(unitlist) == 29 # 27 + 2 (diagonal boxes)\n",
    "assert len(peers['A1']) == 26\n",
    "assert len(peers['B1']) == 20\n",
    "        # Box D4 in diagonal\n",
    "assert peers['D4'] == set(['E4', 'A1', 'I4', 'D1', 'H4', 'E6', 'D8', 'B4', 'D9', 'F4', 'C3', 'E5', 'D5', 'F5', 'F6', 'G7', 'G4', 'D6', 'D2', 'D7', 'A4', 'C4', 'D3', 'B2', 'I9', 'H8'])\n",
    "        # Box B1 not in diagonal\n",
    "assert peers['B1'] == set(['A1', 'A3', 'B9', 'B5', 'F1', 'D1', 'I1', 'B4', 'E1', 'B3', 'C3', 'B6', 'G1', 'B8', 'B7', 'C2', 'H1', 'A2', 'B2', 'C1'])\n",
    "           "
   ]
  },
  {
   "cell_type": "code",
   "execution_count": 18,
   "metadata": {
    "collapsed": false,
    "deletable": true,
    "editable": true
   },
   "outputs": [
    {
     "name": "stdout",
     "output_type": "stream",
     "text": [
      "{'A1': '.', 'A2': '.', 'A3': '3', 'A4': '.', 'A5': '2', 'A6': '.', 'A7': '6', 'A8': '.', 'A9': '.', 'B1': '9', 'B2': '.', 'B3': '.', 'B4': '3', 'B5': '.', 'B6': '5', 'B7': '.', 'B8': '.', 'B9': '1', 'C1': '.', 'C2': '.', 'C3': '1', 'C4': '8', 'C5': '.', 'C6': '6', 'C7': '4', 'C8': '.', 'C9': '.', 'D1': '.', 'D2': '.', 'D3': '8', 'D4': '1', 'D5': '.', 'D6': '2', 'D7': '9', 'D8': '.', 'D9': '.', 'E1': '7', 'E2': '.', 'E3': '.', 'E4': '.', 'E5': '.', 'E6': '.', 'E7': '.', 'E8': '.', 'E9': '8', 'F1': '.', 'F2': '.', 'F3': '6', 'F4': '7', 'F5': '.', 'F6': '8', 'F7': '2', 'F8': '.', 'F9': '.', 'G1': '.', 'G2': '.', 'G3': '2', 'G4': '6', 'G5': '.', 'G6': '9', 'G7': '5', 'G8': '.', 'G9': '.', 'H1': '8', 'H2': '.', 'H3': '.', 'H4': '2', 'H5': '.', 'H6': '3', 'H7': '.', 'H8': '.', 'H9': '9', 'I1': '.', 'I2': '.', 'I3': '5', 'I4': '.', 'I5': '1', 'I6': '.', 'I7': '3', 'I8': '.', 'I9': '.'}\n"
     ]
    }
   ],
   "source": [
    "# Now let's try to draw a new sudoku grid. The empty possitions are filled with '.'\n",
    "\n",
    "def grid_values(grid):\n",
    "    \"\"\"Convert grid string into {<box>: <value>} dict with '.' value for empties.\n",
    "\n",
    "    Args:\n",
    "        grid: Sudoku grid in string form, 81 characters long\n",
    "    Returns:\n",
    "        Sudoku grid in dictionary form:\n",
    "        - keys: Box labels, e.g. 'A1'\n",
    "        - values: Value in corresponding box, e.g. '8', or '.' if it is empty.\n",
    "    \"\"\"\n",
    "    chars = [c for c in grid if c in grid or c in '0.']\n",
    "    assert len(chars) == 81\n",
    "    return dict(zip(boxes, chars))\n",
    "\n",
    "test_values = grid_values('..3.2.6..9..3.5..1..18.64....81.29..7.......8..67.82....26.95..8..2.3..9..5.1.3..')\n",
    "print(test_values)"
   ]
  },
  {
   "cell_type": "markdown",
   "metadata": {
    "deletable": true,
    "editable": true
   },
   "source": [
    "## Constraint propagation and search\n",
    "\n",
    "** Constraint propagation ** is based on the main two strategies: \n",
    "\n",
    "* If a square has only one possible value, then eliminate that value from the square's peers. \n",
    "\n",
    "* If a unit has only one possible place for a value, then put the value there.  "
   ]
  },
  {
   "cell_type": "code",
   "execution_count": 11,
   "metadata": {
    "collapsed": false,
    "deletable": true,
    "editable": true
   },
   "outputs": [
    {
     "name": "stdout",
     "output_type": "stream",
     "text": [
      "{'A1': '123456789', 'A2': '123456789', 'A3': '3', 'A4': '123456789', 'A5': '2', 'A6': '123456789', 'A7': '6', 'A8': '123456789', 'A9': '123456789', 'B1': '9', 'B2': '123456789', 'B3': '123456789', 'B4': '3', 'B5': '123456789', 'B6': '5', 'B7': '123456789', 'B8': '123456789', 'B9': '1', 'C1': '123456789', 'C2': '123456789', 'C3': '1', 'C4': '8', 'C5': '123456789', 'C6': '6', 'C7': '4', 'C8': '123456789', 'C9': '123456789', 'D1': '123456789', 'D2': '123456789', 'D3': '8', 'D4': '1', 'D5': '123456789', 'D6': '2', 'D7': '9', 'D8': '123456789', 'D9': '123456789', 'E1': '7', 'E2': '123456789', 'E3': '123456789', 'E4': '123456789', 'E5': '123456789', 'E6': '123456789', 'E7': '123456789', 'E8': '123456789', 'E9': '8', 'F1': '123456789', 'F2': '123456789', 'F3': '6', 'F4': '7', 'F5': '123456789', 'F6': '8', 'F7': '2', 'F8': '123456789', 'F9': '123456789', 'G1': '123456789', 'G2': '123456789', 'G3': '2', 'G4': '6', 'G5': '123456789', 'G6': '9', 'G7': '5', 'G8': '123456789', 'G9': '123456789', 'H1': '8', 'H2': '123456789', 'H3': '123456789', 'H4': '2', 'H5': '123456789', 'H6': '3', 'H7': '123456789', 'H8': '123456789', 'H9': '9', 'I1': '123456789', 'I2': '123456789', 'I3': '5', 'I4': '123456789', 'I5': '1', 'I6': '123456789', 'I7': '3', 'I8': '123456789', 'I9': '123456789'}\n"
     ]
    }
   ],
   "source": [
    "# Write all the candidates for each blank box\n",
    "\n",
    "def grid_values(grid):\n",
    "    \"\"\"Convert grid string into {<box>: <value>} dict with '.' value for empties.\n",
    "\n",
    "    Args:\n",
    "        grid: Sudoku grid in string form, 81 characters long\n",
    "    Returns:\n",
    "        Sudoku grid in dictionary form:\n",
    "        - keys: Box labels, e.g. 'A1'\n",
    "        - values: Value in corresponding box, e.g. '8', or '.' if it is empty.\n",
    "    \"\"\"\n",
    "        \n",
    "    # print(type(grid)) --> string\n",
    "    # print(type(boxes)) --> list\n",
    "    \n",
    "    assert len(grid) == 81\n",
    "    \n",
    "    chars=[]\n",
    "    \n",
    "    for c in grid:\n",
    "        if c == '.':\n",
    "            chars.append('123456789')\n",
    "        else:\n",
    "            chars.append(c)\n",
    "         \n",
    "    return dict(zip(boxes, chars))\n",
    "\n",
    "test_values = grid_values('..3.2.6..9..3.5..1..18.64....81.29..7.......8..67.82....26.95..8..2.3..9..5.1.3..')\n",
    "print(test_values)"
   ]
  },
  {
   "cell_type": "markdown",
   "metadata": {
    "deletable": true,
    "editable": true
   },
   "source": [
    "## Strategies"
   ]
  },
  {
   "cell_type": "markdown",
   "metadata": {
    "deletable": true,
    "editable": true
   },
   "source": [
    "### Strategy 1: Elimination\n",
    "\n",
    "Now, let's finish the code for the function eliminate(), which will take as input a puzzle in dictionary form. The function will iterate over all the boxes in the puzzle that only have one value assigned to them, and it will remove this value from every one of its peers."
   ]
  },
  {
   "cell_type": "code",
   "execution_count": 12,
   "metadata": {
    "collapsed": false,
    "deletable": true,
    "editable": true
   },
   "outputs": [
    {
     "name": "stdout",
     "output_type": "stream",
     "text": [
      "{'A1': '45', 'A2': '4578', 'A3': '3', 'A4': '49', 'A5': '2', 'A6': '147', 'A7': '6', 'A8': '5789', 'A9': '57', 'B1': '9', 'B2': '24678', 'B3': '47', 'B4': '3', 'B5': '47', 'B6': '5', 'B7': '78', 'B8': '278', 'B9': '1', 'C1': '25', 'C2': '257', 'C3': '1', 'C4': '8', 'C5': '79', 'C6': '6', 'C7': '4', 'C8': '23579', 'C9': '2357', 'D1': '345', 'D2': '345', 'D3': '8', 'D4': '1', 'D5': '3456', 'D6': '2', 'D7': '9', 'D8': '34567', 'D9': '34567', 'E1': '7', 'E2': '123459', 'E3': '49', 'E4': '459', 'E5': '34569', 'E6': '4', 'E7': '1', 'E8': '13456', 'E9': '8', 'F1': '1345', 'F2': '13459', 'F3': '6', 'F4': '7', 'F5': '3459', 'F6': '8', 'F7': '2', 'F8': '1345', 'F9': '345', 'G1': '134', 'G2': '1347', 'G3': '2', 'G4': '6', 'G5': '478', 'G6': '9', 'G7': '5', 'G8': '1478', 'G9': '47', 'H1': '8', 'H2': '1467', 'H3': '47', 'H4': '2', 'H5': '457', 'H6': '3', 'H7': '17', 'H8': '1467', 'H9': '9', 'I1': '46', 'I2': '4679', 'I3': '5', 'I4': '4', 'I5': '1', 'I6': '47', 'I7': '3', 'I8': '24678', 'I9': '2467'}\n"
     ]
    }
   ],
   "source": [
    "def eliminate(values):\n",
    "    \"\"\"Eliminate values from peers of each box with a single value.\n",
    "\n",
    "    Go through all the boxes, and whenever there is a box with a single value,\n",
    "    eliminate this value from the set of values of all its peers.\n",
    "\n",
    "    Args:\n",
    "        values: Sudoku in dictionary form.\n",
    "    Returns:\n",
    "        Resulting Sudoku in dictionary form after eliminating values.\n",
    "    \"\"\"\n",
    "       \n",
    "    solved_values = [box for box in values.keys() if len(values[box]) == 1]\n",
    "    \n",
    "    \n",
    "    for box in solved_values:\n",
    "        digit = values[box]\n",
    "        for peer in peers[box]:\n",
    "            values[peer] = values[peer].replace(digit,'')\n",
    "    return values\n",
    "\n",
    "print(eliminate(test_values))"
   ]
  },
  {
   "cell_type": "markdown",
   "metadata": {
    "deletable": true,
    "editable": true
   },
   "source": [
    "### Strategy 2: The only choice"
   ]
  },
  {
   "cell_type": "code",
   "execution_count": 13,
   "metadata": {
    "collapsed": false,
    "deletable": true,
    "editable": true
   },
   "outputs": [
    {
     "name": "stdout",
     "output_type": "stream",
     "text": [
      "{'A1': '45', 'A2': '8', 'A3': '3', 'A4': '9', 'A5': '2', 'A6': '1', 'A7': '6', 'A8': '5789', 'A9': '57', 'B1': '9', 'B2': '6', 'B3': '47', 'B4': '3', 'B5': '4', 'B6': '5', 'B7': '8', 'B8': '278', 'B9': '1', 'C1': '2', 'C2': '257', 'C3': '1', 'C4': '8', 'C5': '7', 'C6': '6', 'C7': '4', 'C8': '23579', 'C9': '2357', 'D1': '345', 'D2': '345', 'D3': '8', 'D4': '1', 'D5': '3456', 'D6': '2', 'D7': '9', 'D8': '34567', 'D9': '34567', 'E1': '7', 'E2': '2', 'E3': '9', 'E4': '5', 'E5': '34569', 'E6': '4', 'E7': '1', 'E8': '13456', 'E9': '8', 'F1': '1345', 'F2': '13459', 'F3': '6', 'F4': '7', 'F5': '3459', 'F6': '8', 'F7': '2', 'F8': '1345', 'F9': '345', 'G1': '134', 'G2': '1347', 'G3': '2', 'G4': '6', 'G5': '8', 'G6': '9', 'G7': '5', 'G8': '1478', 'G9': '47', 'H1': '8', 'H2': '1467', 'H3': '47', 'H4': '2', 'H5': '5', 'H6': '3', 'H7': '17', 'H8': '6', 'H9': '9', 'I1': '6', 'I2': '9', 'I3': '5', 'I4': '4', 'I5': '1', 'I6': '7', 'I7': '3', 'I8': '8', 'I9': '2'}\n"
     ]
    }
   ],
   "source": [
    "def only_choice(values):\n",
    "    \"\"\"Finalize all values that are the only choice for a unit.\n",
    "\n",
    "    Go through all the units, and whenever there is a unit with a value\n",
    "    that only fits in one box, assign the value to this box.\n",
    "\n",
    "    Input: Sudoku in dictionary form.\n",
    "    Output: Resulting Sudoku in dictionary form after filling in only choices.\n",
    "    \"\"\"\n",
    "    for unit in unitlist:\n",
    "        for digit in '123456789':\n",
    "            dplaces = [box for box in unit if digit in values[box]]\n",
    "            if len(dplaces) == 1:\n",
    "                values[dplaces[0]] = digit\n",
    "    return values\n",
    "\n",
    "print(only_choice(test_values))"
   ]
  },
  {
   "cell_type": "code",
   "execution_count": 14,
   "metadata": {
    "collapsed": false,
    "deletable": true,
    "editable": true
   },
   "outputs": [
    {
     "name": "stdout",
     "output_type": "stream",
     "text": [
      "{'A1': '4', 'A2': '8', 'A3': '3', 'A4': '9', 'A5': '2', 'A6': '1', 'A7': '6', 'A8': '5', 'A9': '7', 'B1': '9', 'B2': '6', 'B3': '7', 'B4': '3', 'B5': '4', 'B6': '5', 'B7': '8', 'B8': '2', 'B9': '1', 'C1': '2', 'C2': '5', 'C3': '1', 'C4': '8', 'C5': '7', 'C6': '6', 'C7': '4', 'C8': '9', 'C9': '3', 'D1': '5', 'D2': '4', 'D3': '8', 'D4': '1', 'D5': '3', 'D6': '2', 'D7': '9', 'D8': '7', 'D9': '6', 'E1': '7', 'E2': '2', 'E3': '9', 'E4': '5', 'E5': '6', 'E6': '4', 'E7': '1', 'E8': '3', 'E9': '8', 'F1': '1', 'F2': '3', 'F3': '6', 'F4': '7', 'F5': '9', 'F6': '8', 'F7': '2', 'F8': '4', 'F9': '5', 'G1': '3', 'G2': '7', 'G3': '2', 'G4': '6', 'G5': '8', 'G6': '9', 'G7': '5', 'G8': '1', 'G9': '4', 'H1': '8', 'H2': '1', 'H3': '4', 'H4': '2', 'H5': '5', 'H6': '3', 'H7': '7', 'H8': '6', 'H9': '9', 'I1': '6', 'I2': '9', 'I3': '5', 'I4': '4', 'I5': '1', 'I6': '7', 'I7': '3', 'I8': '8', 'I9': '2'}\n"
     ]
    }
   ],
   "source": [
    "def reduce_puzzle(values):\n",
    "    stalled = False\n",
    "    while not stalled:\n",
    "        # Check how many boxes have a determined value\n",
    "        solved_values_before = len([box for box in values.keys() if len(values[box]) == 1])\n",
    "\n",
    "        # Your code here: Use the Eliminate Strategy\n",
    "        values = eliminate(values)\n",
    "\n",
    "        # Your code here: Use the Only Choice Strategy\n",
    "        values = only_choice(values)\n",
    "        \n",
    "        # Check how many boxes have a determined value, to compare\n",
    "        solved_values_after = len([box for box in values.keys() if len(values[box]) == 1])\n",
    "        \n",
    "        # If no new values were added, stop the loop.\n",
    "        stalled = solved_values_before == solved_values_after\n",
    "        \n",
    "        # Sanity check, return False if there is a box with zero available values:\n",
    "        if len([box for box in values.keys() if len(values[box]) == 0]):\n",
    "            return False\n",
    "    return values\n",
    "\n",
    "\n",
    "print(reduce_puzzle(test_values))"
   ]
  },
  {
   "cell_type": "markdown",
   "metadata": {
    "deletable": true,
    "editable": true
   },
   "source": [
    "### Harder Sudoku --> Strategy 3: Search\n",
    "\n",
    "Let's try the algorithm with a more complex figure, that means more missing positions, therefore less contraints. As you may see there are more chances for each box. In order to find a solution we need to use another strategy called Search. This strategy allows us to build a graph of nodes, containing the possible chances (decisions) and possible solutions, depending on the decision taken. To move throughout the graph we use Depth First Search, that means you only move along a branch of the same parent instead of jumping from one sibling to another. "
   ]
  },
  {
   "cell_type": "code",
   "execution_count": 15,
   "metadata": {
    "collapsed": false,
    "deletable": true,
    "editable": true
   },
   "outputs": [
    {
     "name": "stdout",
     "output_type": "stream",
     "text": [
      "{'A1': '4', 'A2': '1679', 'A3': '12679', 'A4': '139', 'A5': '2369', 'A6': '269', 'A7': '8', 'A8': '1239', 'A9': '5', 'B1': '26789', 'B2': '3', 'B3': '1256789', 'B4': '14589', 'B5': '24569', 'B6': '245689', 'B7': '12679', 'B8': '1249', 'B9': '124679', 'C1': '2689', 'C2': '15689', 'C3': '125689', 'C4': '7', 'C5': '234569', 'C6': '245689', 'C7': '12369', 'C8': '12349', 'C9': '123469', 'D1': '3789', 'D2': '2', 'D3': '15789', 'D4': '3459', 'D5': '34579', 'D6': '4579', 'D7': '13579', 'D8': '6', 'D9': '13789', 'E1': '3679', 'E2': '15679', 'E3': '15679', 'E4': '359', 'E5': '8', 'E6': '25679', 'E7': '4', 'E8': '12359', 'E9': '12379', 'F1': '36789', 'F2': '4', 'F3': '56789', 'F4': '359', 'F5': '1', 'F6': '25679', 'F7': '23579', 'F8': '23589', 'F9': '23789', 'G1': '289', 'G2': '89', 'G3': '289', 'G4': '6', 'G5': '459', 'G6': '3', 'G7': '1259', 'G8': '7', 'G9': '12489', 'H1': '5', 'H2': '6789', 'H3': '3', 'H4': '2', 'H5': '479', 'H6': '1', 'H7': '69', 'H8': '489', 'H9': '4689', 'I1': '1', 'I2': '6789', 'I3': '4', 'I4': '589', 'I5': '579', 'I6': '5789', 'I7': '23569', 'I8': '23589', 'I9': '23689'}\n"
     ]
    }
   ],
   "source": [
    "grid2 = '4.....8.5.3..........7......2.....6.....8.4......1.......6.3.7.5..2.....1.4......'\n",
    "\n",
    "hs_values = grid_values(grid2)\n",
    "\n",
    "print(reduce_puzzle(hs_values))"
   ]
  },
  {
   "cell_type": "code",
   "execution_count": 18,
   "metadata": {
    "collapsed": false,
    "deletable": true,
    "editable": true
   },
   "outputs": [
    {
     "name": "stdout",
     "output_type": "stream",
     "text": [
      "{'A1': '4', 'A2': '1', 'A3': '7', 'A4': '3', 'A5': '6', 'A6': '9', 'A7': '8', 'A8': '2', 'A9': '5', 'B1': '6', 'B2': '3', 'B3': '2', 'B4': '1', 'B5': '5', 'B6': '8', 'B7': '9', 'B8': '4', 'B9': '7', 'C1': '9', 'C2': '5', 'C3': '8', 'C4': '7', 'C5': '2', 'C6': '4', 'C7': '3', 'C8': '1', 'C9': '6', 'D1': '8', 'D2': '2', 'D3': '5', 'D4': '4', 'D5': '3', 'D6': '7', 'D7': '1', 'D8': '6', 'D9': '9', 'E1': '7', 'E2': '9', 'E3': '1', 'E4': '5', 'E5': '8', 'E6': '6', 'E7': '4', 'E8': '3', 'E9': '2', 'F1': '3', 'F2': '4', 'F3': '6', 'F4': '9', 'F5': '1', 'F6': '2', 'F7': '7', 'F8': '5', 'F9': '8', 'G1': '2', 'G2': '8', 'G3': '9', 'G4': '6', 'G5': '4', 'G6': '3', 'G7': '5', 'G8': '7', 'G9': '1', 'H1': '5', 'H2': '7', 'H3': '3', 'H4': '2', 'H5': '9', 'H6': '1', 'H7': '6', 'H8': '8', 'H9': '4', 'I1': '1', 'I2': '6', 'I3': '4', 'I4': '8', 'I5': '7', 'I6': '5', 'I7': '2', 'I8': '9', 'I9': '3'}\n"
     ]
    }
   ],
   "source": [
    "# Depth First Search (DFS)\n",
    "\n",
    "def search(values):\n",
    "    \"Using depth-first search and propagation, try all possible values.\"\n",
    "    \n",
    "    # First, reduce the puzzle using the previous function\n",
    "    values = reduce_puzzle(values)\n",
    "    \n",
    "    if values is False:\n",
    "        return False ## Failed earlier\n",
    "    \n",
    "    if all(len(values[s]) == 1 for s in boxes): \n",
    "        return values ## Solved!\n",
    "    \n",
    "    # Choose one of the unfilled squares with the fewest possibilities\n",
    "    n,s = min((len(values[s]), s) for s in boxes if len(values[s]) > 1)\n",
    "    \n",
    "    # Now use recurrence to solve each one of the resulting sudokus, and \n",
    "    \n",
    "    for value in values[s]:\n",
    "        new_sudoku = values.copy()\n",
    "        new_sudoku[s] = value\n",
    "        attempt = search(new_sudoku)\n",
    "        if attempt:\n",
    "            return attempt\n",
    "        \n",
    "        \n",
    "print(search(hs_values))        "
   ]
  },
  {
   "cell_type": "markdown",
   "metadata": {
    "collapsed": true,
    "deletable": true,
    "editable": true
   },
   "source": [
    "Further reading: \n",
    "\n",
    "http://norvig.com/sudoku.html"
   ]
  }
 ],
 "metadata": {
  "kernelspec": {
   "display_name": "Python 3",
   "language": "python",
   "name": "python3"
  },
  "language_info": {
   "codemirror_mode": {
    "name": "ipython",
    "version": 3
   },
   "file_extension": ".py",
   "mimetype": "text/x-python",
   "name": "python",
   "nbconvert_exporter": "python",
   "pygments_lexer": "ipython3",
   "version": "3.6.0"
  }
 },
 "nbformat": 4,
 "nbformat_minor": 2
}
