{
 "cells": [
  {
   "cell_type": "markdown",
   "metadata": {},
   "source": [
    "# Solve any Sudoku with AI"
   ]
  },
  {
   "cell_type": "markdown",
   "metadata": {},
   "source": [
    "## Draw the grid"
   ]
  },
  {
   "cell_type": "code",
   "execution_count": 7,
   "metadata": {
    "collapsed": true
   },
   "outputs": [],
   "source": [
    "rows = 'ABCDEFGHI'\n",
    "cols = '123456789'"
   ]
  },
  {
   "cell_type": "code",
   "execution_count": 8,
   "metadata": {},
   "outputs": [
    {
     "name": "stdout",
     "output_type": "stream",
     "text": [
      "['A1', 'A2', 'A3', 'A4', 'A5', 'A6', 'A7', 'A8', 'A9', 'B1', 'B2', 'B3', 'B4', 'B5', 'B6', 'B7', 'B8', 'B9', 'C1', 'C2', 'C3', 'C4', 'C5', 'C6', 'C7', 'C8', 'C9', 'D1', 'D2', 'D3', 'D4', 'D5', 'D6', 'D7', 'D8', 'D9', 'E1', 'E2', 'E3', 'E4', 'E5', 'E6', 'E7', 'E8', 'E9', 'F1', 'F2', 'F3', 'F4', 'F5', 'F6', 'F7', 'F8', 'F9', 'G1', 'G2', 'G3', 'G4', 'G5', 'G6', 'G7', 'G8', 'G9', 'H1', 'H2', 'H3', 'H4', 'H5', 'H6', 'H7', 'H8', 'H9', 'I1', 'I2', 'I3', 'I4', 'I5', 'I6', 'I7', 'I8', 'I9']\n",
      "81\n"
     ]
    }
   ],
   "source": [
    "def cross(a, b):\n",
    "      return [s+t for s in a for t in b]\n",
    "    \n",
    "boxes = cross(rows, cols)   \n",
    "\n",
    "print(boxes)\n",
    "print(len(boxes))"
   ]
  },
  {
   "cell_type": "code",
   "execution_count": 9,
   "metadata": {},
   "outputs": [
    {
     "name": "stdout",
     "output_type": "stream",
     "text": [
      "[['A1', 'B2', 'C3', 'D4', 'E5', 'F6', 'G7', 'H8', 'I9'], ['A9', 'B8', 'C7', 'D6', 'E5', 'F4', 'G3', 'H2', 'I1']]\n",
      "2\n"
     ]
    }
   ],
   "source": [
    "diagonal_units = [[rows[i] + cols[i] for i in range(len(rows))]] + [[rows[i]+cols[::-1][i] for i in range(len(rows))]]\n",
    "\n",
    "print(diagonal_units)\n",
    "print(len(diagonal_units))"
   ]
  },
  {
   "cell_type": "code",
   "execution_count": 10,
   "metadata": {},
   "outputs": [
    {
     "name": "stdout",
     "output_type": "stream",
     "text": [
      "[['A1', 'A2', 'A3', 'A4', 'A5', 'A6', 'A7', 'A8', 'A9'], ['B1', 'B2', 'B3', 'B4', 'B5', 'B6', 'B7', 'B8', 'B9'], ['C1', 'C2', 'C3', 'C4', 'C5', 'C6', 'C7', 'C8', 'C9'], ['D1', 'D2', 'D3', 'D4', 'D5', 'D6', 'D7', 'D8', 'D9'], ['E1', 'E2', 'E3', 'E4', 'E5', 'E6', 'E7', 'E8', 'E9'], ['F1', 'F2', 'F3', 'F4', 'F5', 'F6', 'F7', 'F8', 'F9'], ['G1', 'G2', 'G3', 'G4', 'G5', 'G6', 'G7', 'G8', 'G9'], ['H1', 'H2', 'H3', 'H4', 'H5', 'H6', 'H7', 'H8', 'H9'], ['I1', 'I2', 'I3', 'I4', 'I5', 'I6', 'I7', 'I8', 'I9']]\n"
     ]
    }
   ],
   "source": [
    "row_units = [cross(r, cols) for r in rows]\n",
    "\n",
    "print(row_units)"
   ]
  },
  {
   "cell_type": "code",
   "execution_count": 11,
   "metadata": {},
   "outputs": [
    {
     "name": "stdout",
     "output_type": "stream",
     "text": [
      "[['A1', 'B1', 'C1', 'D1', 'E1', 'F1', 'G1', 'H1', 'I1'], ['A2', 'B2', 'C2', 'D2', 'E2', 'F2', 'G2', 'H2', 'I2'], ['A3', 'B3', 'C3', 'D3', 'E3', 'F3', 'G3', 'H3', 'I3'], ['A4', 'B4', 'C4', 'D4', 'E4', 'F4', 'G4', 'H4', 'I4'], ['A5', 'B5', 'C5', 'D5', 'E5', 'F5', 'G5', 'H5', 'I5'], ['A6', 'B6', 'C6', 'D6', 'E6', 'F6', 'G6', 'H6', 'I6'], ['A7', 'B7', 'C7', 'D7', 'E7', 'F7', 'G7', 'H7', 'I7'], ['A8', 'B8', 'C8', 'D8', 'E8', 'F8', 'G8', 'H8', 'I8'], ['A9', 'B9', 'C9', 'D9', 'E9', 'F9', 'G9', 'H9', 'I9']]\n"
     ]
    }
   ],
   "source": [
    "column_units = [cross(rows, c) for c in cols]\n",
    "\n",
    "print(column_units)"
   ]
  },
  {
   "cell_type": "code",
   "execution_count": 12,
   "metadata": {},
   "outputs": [
    {
     "name": "stdout",
     "output_type": "stream",
     "text": [
      "[['A1', 'A2', 'A3', 'B1', 'B2', 'B3', 'C1', 'C2', 'C3'], ['A4', 'A5', 'A6', 'B4', 'B5', 'B6', 'C4', 'C5', 'C6'], ['A7', 'A8', 'A9', 'B7', 'B8', 'B9', 'C7', 'C8', 'C9'], ['D1', 'D2', 'D3', 'E1', 'E2', 'E3', 'F1', 'F2', 'F3'], ['D4', 'D5', 'D6', 'E4', 'E5', 'E6', 'F4', 'F5', 'F6'], ['D7', 'D8', 'D9', 'E7', 'E8', 'E9', 'F7', 'F8', 'F9'], ['G1', 'G2', 'G3', 'H1', 'H2', 'H3', 'I1', 'I2', 'I3'], ['G4', 'G5', 'G6', 'H4', 'H5', 'H6', 'I4', 'I5', 'I6'], ['G7', 'G8', 'G9', 'H7', 'H8', 'H9', 'I7', 'I8', 'I9']]\n",
      "9\n"
     ]
    }
   ],
   "source": [
    "square_units = [cross(rs, cs) for rs in ('ABC','DEF','GHI') for cs in ('123','456','789')]\n",
    "\n",
    "print(square_units)\n",
    "print(len(square_units))"
   ]
  },
  {
   "cell_type": "code",
   "execution_count": 16,
   "metadata": {},
   "outputs": [
    {
     "name": "stdout",
     "output_type": "stream",
     "text": [
      "[['A1', 'A2', 'A3', 'A4', 'A5', 'A6', 'A7', 'A8', 'A9'], ['B1', 'B2', 'B3', 'B4', 'B5', 'B6', 'B7', 'B8', 'B9'], ['C1', 'C2', 'C3', 'C4', 'C5', 'C6', 'C7', 'C8', 'C9'], ['D1', 'D2', 'D3', 'D4', 'D5', 'D6', 'D7', 'D8', 'D9'], ['E1', 'E2', 'E3', 'E4', 'E5', 'E6', 'E7', 'E8', 'E9'], ['F1', 'F2', 'F3', 'F4', 'F5', 'F6', 'F7', 'F8', 'F9'], ['G1', 'G2', 'G3', 'G4', 'G5', 'G6', 'G7', 'G8', 'G9'], ['H1', 'H2', 'H3', 'H4', 'H5', 'H6', 'H7', 'H8', 'H9'], ['I1', 'I2', 'I3', 'I4', 'I5', 'I6', 'I7', 'I8', 'I9'], ['A1', 'B1', 'C1', 'D1', 'E1', 'F1', 'G1', 'H1', 'I1'], ['A2', 'B2', 'C2', 'D2', 'E2', 'F2', 'G2', 'H2', 'I2'], ['A3', 'B3', 'C3', 'D3', 'E3', 'F3', 'G3', 'H3', 'I3'], ['A4', 'B4', 'C4', 'D4', 'E4', 'F4', 'G4', 'H4', 'I4'], ['A5', 'B5', 'C5', 'D5', 'E5', 'F5', 'G5', 'H5', 'I5'], ['A6', 'B6', 'C6', 'D6', 'E6', 'F6', 'G6', 'H6', 'I6'], ['A7', 'B7', 'C7', 'D7', 'E7', 'F7', 'G7', 'H7', 'I7'], ['A8', 'B8', 'C8', 'D8', 'E8', 'F8', 'G8', 'H8', 'I8'], ['A9', 'B9', 'C9', 'D9', 'E9', 'F9', 'G9', 'H9', 'I9'], ['A1', 'A2', 'A3', 'B1', 'B2', 'B3', 'C1', 'C2', 'C3'], ['A4', 'A5', 'A6', 'B4', 'B5', 'B6', 'C4', 'C5', 'C6'], ['A7', 'A8', 'A9', 'B7', 'B8', 'B9', 'C7', 'C8', 'C9'], ['D1', 'D2', 'D3', 'E1', 'E2', 'E3', 'F1', 'F2', 'F3'], ['D4', 'D5', 'D6', 'E4', 'E5', 'E6', 'F4', 'F5', 'F6'], ['D7', 'D8', 'D9', 'E7', 'E8', 'E9', 'F7', 'F8', 'F9'], ['G1', 'G2', 'G3', 'H1', 'H2', 'H3', 'I1', 'I2', 'I3'], ['G4', 'G5', 'G6', 'H4', 'H5', 'H6', 'I4', 'I5', 'I6'], ['G7', 'G8', 'G9', 'H7', 'H8', 'H9', 'I7', 'I8', 'I9'], ['A1', 'B2', 'C3', 'D4', 'E5', 'F6', 'G7', 'H8', 'I9'], ['A9', 'B8', 'C7', 'D6', 'E5', 'F4', 'G3', 'H2', 'I1']]\n",
      "29\n",
      "unitlist first row:  ['A1', 'A2', 'A3', 'A4', 'A5', 'A6', 'A7', 'A8', 'A9']\n",
      "unitlist first col:  ['A1', 'B1', 'C1', 'D1', 'E1', 'F1', 'G1', 'H1', 'I1']\n",
      "unitlist first square:  ['A1', 'A2', 'A3', 'B1', 'B2', 'B3', 'C1', 'C2', 'C3']\n",
      "unitlist lenght:  29\n"
     ]
    }
   ],
   "source": [
    "# In order to complete a Sudoku, you have to fill row, column and square unit for each box\n",
    "\n",
    "unitlist = row_units + column_units + square_units  + diagonal_units\n",
    "\n",
    "print(unitlist)\n",
    "print(len(unitlist))\n",
    "print(\"unitlist first row: \", unitlist[0])\n",
    "print(\"unitlist first col: \", unitlist[9])\n",
    "print(\"unitlist first square: \", unitlist[18])\n",
    "print(\"unitlist lenght: \", len(unitlist))"
   ]
  },
  {
   "cell_type": "code",
   "execution_count": 18,
   "metadata": {},
   "outputs": [
    {
     "name": "stdout",
     "output_type": "stream",
     "text": [
      "Unsorted peers of A1 (in diagonal):  {'A3', 'F1', 'D1', 'B1', 'I1', 'A6', 'A9', 'E1', 'B3', 'C3', 'E5', 'D4', 'G1', 'A8', 'F6', 'G7', 'C2', 'A4', 'A7', 'H1', 'A5', 'A2', 'B2', 'C1', 'I9', 'H8'}\n",
      "Number of peers of A1 (in diagonal):  26\n",
      "Unsorted peers of B1 (not in diagonal):  {'A1', 'A3', 'B9', 'B5', 'F1', 'D1', 'I1', 'B4', 'E1', 'B3', 'C3', 'B6', 'G1', 'B8', 'B7', 'C2', 'H1', 'A2', 'B2', 'C1'}\n",
      "Number of peers of B1 (not in diagonal):  20\n",
      "Unsorted peers of D4 (in diagonal):  {'E4', 'A1', 'I4', 'D1', 'H4', 'E6', 'D8', 'B4', 'D9', 'F4', 'C3', 'E5', 'D5', 'F5', 'F6', 'G7', 'G4', 'D6', 'D2', 'D7', 'A4', 'C4', 'D3', 'B2', 'I9', 'H8'}\n",
      "Number of peers of D4 (in diagonal):  26\n"
     ]
    }
   ],
   "source": [
    "units = dict((s, [u for u in unitlist if s in u]) for s in boxes)\n",
    "\n",
    "peers = dict((s, set(sum(units[s],[])) - set([s])) for s in boxes)\n",
    "\n",
    "# Remember dicts doesn't keep order\n",
    "\n",
    "print(\"Unsorted peers of A1 (in diagonal): \", peers['A1'])\n",
    "print(\"Number of peers of A1 (in diagonal): \", len(peers['A1']))\n",
    "\n",
    "print(\"Unsorted peers of B1 (not in diagonal): \", peers['B1'])\n",
    "print(\"Number of peers of B1 (not in diagonal): \", len(peers['B1']))\n",
    "\n",
    "print(\"Unsorted peers of D4 (in diagonal): \", peers['D4'])\n",
    "print(\"Number of peers of D4 (in diagonal): \", len(peers['D4']))"
   ]
  },
  {
   "cell_type": "code",
   "execution_count": 20,
   "metadata": {
    "collapsed": true
   },
   "outputs": [],
   "source": [
    "assert len(boxes) == 81, \"Less or more boxes than 81\"\n",
    "assert len(unitlist) == 29 # 27 + 2 (diagonal boxes)\n",
    "assert len(peers['A1']) == 26\n",
    "assert len(peers['B1']) == 20\n",
    "        # Box D4 in diagonal\n",
    "assert peers['D4'] == set(['E4', 'A1', 'I4', 'D1', 'H4', 'E6', 'D8', 'B4', 'D9', 'F4', 'C3', 'E5', 'D5', 'F5', 'F6', 'G7', 'G4', 'D6', 'D2', 'D7', 'A4', 'C4', 'D3', 'B2', 'I9', 'H8'])\n",
    "        # Box B1 not in diagonal\n",
    "assert peers['B1'] == set(['A1', 'A3', 'B9', 'B5', 'F1', 'D1', 'I1', 'B4', 'E1', 'B3', 'C3', 'B6', 'G1', 'B8', 'B7', 'C2', 'H1', 'A2', 'B2', 'C1'])\n",
    "           "
   ]
  },
  {
   "cell_type": "code",
   "execution_count": 10,
   "metadata": {},
   "outputs": [
    {
     "name": "stdout",
     "output_type": "stream",
     "text": [
      "{'A1': '.', 'A2': '.', 'A3': '3', 'A4': '.', 'A5': '2', 'A6': '.', 'A7': '6', 'A8': '.', 'A9': '.', 'B1': '9', 'B2': '.', 'B3': '.', 'B4': '3', 'B5': '.', 'B6': '5', 'B7': '.', 'B8': '.', 'B9': '1', 'C1': '.', 'C2': '.', 'C3': '1', 'C4': '8', 'C5': '.', 'C6': '6', 'C7': '4', 'C8': '.', 'C9': '.', 'D1': '.', 'D2': '.', 'D3': '8', 'D4': '1', 'D5': '.', 'D6': '2', 'D7': '9', 'D8': '.', 'D9': '.', 'E1': '7', 'E2': '.', 'E3': '.', 'E4': '.', 'E5': '.', 'E6': '.', 'E7': '.', 'E8': '.', 'E9': '8', 'F1': '.', 'F2': '.', 'F3': '6', 'F4': '7', 'F5': '.', 'F6': '8', 'F7': '2', 'F8': '.', 'F9': '.', 'G1': '.', 'G2': '.', 'G3': '2', 'G4': '6', 'G5': '.', 'G6': '9', 'G7': '5', 'G8': '.', 'G9': '.', 'H1': '8', 'H2': '.', 'H3': '.', 'H4': '2', 'H5': '.', 'H6': '3', 'H7': '.', 'H8': '.', 'H9': '9', 'I1': '.', 'I2': '.', 'I3': '5', 'I4': '.', 'I5': '1', 'I6': '.', 'I7': '3', 'I8': '.', 'I9': '.'}\n"
     ]
    }
   ],
   "source": [
    "# Now let's try to draw a new sudoku grid. The empty possitions are filled with '.'\n",
    "\n",
    "def grid_values(grid):\n",
    "    \"\"\"Convert grid string into {<box>: <value>} dict with '.' value for empties.\n",
    "\n",
    "    Args:\n",
    "        grid: Sudoku grid in string form, 81 characters long\n",
    "    Returns:\n",
    "        Sudoku grid in dictionary form:\n",
    "        - keys: Box labels, e.g. 'A1'\n",
    "        - values: Value in corresponding box, e.g. '8', or '.' if it is empty.\n",
    "    \"\"\"\n",
    "    chars = [c for c in grid if c in grid or c in '0.']\n",
    "    assert len(chars) == 81\n",
    "    return dict(zip(boxes, chars))\n",
    "\n",
    "test_values = grid_values('..3.2.6..9..3.5..1..18.64....81.29..7.......8..67.82....26.95..8..2.3..9..5.1.3..')\n",
    "print(test_values)"
   ]
  },
  {
   "cell_type": "markdown",
   "metadata": {},
   "source": [
    "## Constraint propagation and search\n",
    "\n",
    "** Constraint propagation ** is based on the main two strategies: \n",
    "\n",
    "* If a square has only one possible value, then eliminate that value from the square's peers. \n",
    "\n",
    "* If a unit has only one possible place for a value, then put the value there.  "
   ]
  },
  {
   "cell_type": "code",
   "execution_count": 11,
   "metadata": {},
   "outputs": [
    {
     "name": "stdout",
     "output_type": "stream",
     "text": [
      "{'A1': '123456789', 'A2': '123456789', 'A3': '3', 'A4': '123456789', 'A5': '2', 'A6': '123456789', 'A7': '6', 'A8': '123456789', 'A9': '123456789', 'B1': '9', 'B2': '123456789', 'B3': '123456789', 'B4': '3', 'B5': '123456789', 'B6': '5', 'B7': '123456789', 'B8': '123456789', 'B9': '1', 'C1': '123456789', 'C2': '123456789', 'C3': '1', 'C4': '8', 'C5': '123456789', 'C6': '6', 'C7': '4', 'C8': '123456789', 'C9': '123456789', 'D1': '123456789', 'D2': '123456789', 'D3': '8', 'D4': '1', 'D5': '123456789', 'D6': '2', 'D7': '9', 'D8': '123456789', 'D9': '123456789', 'E1': '7', 'E2': '123456789', 'E3': '123456789', 'E4': '123456789', 'E5': '123456789', 'E6': '123456789', 'E7': '123456789', 'E8': '123456789', 'E9': '8', 'F1': '123456789', 'F2': '123456789', 'F3': '6', 'F4': '7', 'F5': '123456789', 'F6': '8', 'F7': '2', 'F8': '123456789', 'F9': '123456789', 'G1': '123456789', 'G2': '123456789', 'G3': '2', 'G4': '6', 'G5': '123456789', 'G6': '9', 'G7': '5', 'G8': '123456789', 'G9': '123456789', 'H1': '8', 'H2': '123456789', 'H3': '123456789', 'H4': '2', 'H5': '123456789', 'H6': '3', 'H7': '123456789', 'H8': '123456789', 'H9': '9', 'I1': '123456789', 'I2': '123456789', 'I3': '5', 'I4': '123456789', 'I5': '1', 'I6': '123456789', 'I7': '3', 'I8': '123456789', 'I9': '123456789'}\n"
     ]
    }
   ],
   "source": [
    "# Write all the candidates for each blank box\n",
    "\n",
    "def grid_values(grid):\n",
    "    \"\"\"Convert grid string into {<box>: <value>} dict with '.' value for empties.\n",
    "\n",
    "    Args:\n",
    "        grid: Sudoku grid in string form, 81 characters long\n",
    "    Returns:\n",
    "        Sudoku grid in dictionary form:\n",
    "        - keys: Box labels, e.g. 'A1'\n",
    "        - values: Value in corresponding box, e.g. '8', or '.' if it is empty.\n",
    "    \"\"\"\n",
    "        \n",
    "    # print(type(grid)) --> string\n",
    "    # print(type(boxes)) --> list\n",
    "    \n",
    "    assert len(grid) == 81\n",
    "    \n",
    "    chars=[]\n",
    "    \n",
    "    for c in grid:\n",
    "        if c == '.':\n",
    "            chars.append('123456789')\n",
    "        else:\n",
    "            chars.append(c)\n",
    "         \n",
    "    return dict(zip(boxes, chars))\n",
    "\n",
    "test_values = grid_values('..3.2.6..9..3.5..1..18.64....81.29..7.......8..67.82....26.95..8..2.3..9..5.1.3..')\n",
    "print(test_values)"
   ]
  },
  {
   "cell_type": "markdown",
   "metadata": {},
   "source": [
    "## Strategies"
   ]
  },
  {
   "cell_type": "markdown",
   "metadata": {},
   "source": [
    "### Strategy 1: Elimination\n",
    "\n",
    "Now, let's finish the code for the function eliminate(), which will take as input a puzzle in dictionary form. The function will iterate over all the boxes in the puzzle that only have one value assigned to them, and it will remove this value from every one of its peers."
   ]
  },
  {
   "cell_type": "code",
   "execution_count": 12,
   "metadata": {},
   "outputs": [
    {
     "name": "stdout",
     "output_type": "stream",
     "text": [
      "{'A1': '45', 'A2': '4578', 'A3': '3', 'A4': '49', 'A5': '2', 'A6': '147', 'A7': '6', 'A8': '5789', 'A9': '57', 'B1': '9', 'B2': '24678', 'B3': '47', 'B4': '3', 'B5': '47', 'B6': '5', 'B7': '78', 'B8': '278', 'B9': '1', 'C1': '25', 'C2': '257', 'C3': '1', 'C4': '8', 'C5': '79', 'C6': '6', 'C7': '4', 'C8': '23579', 'C9': '2357', 'D1': '345', 'D2': '345', 'D3': '8', 'D4': '1', 'D5': '3456', 'D6': '2', 'D7': '9', 'D8': '34567', 'D9': '34567', 'E1': '7', 'E2': '123459', 'E3': '49', 'E4': '459', 'E5': '34569', 'E6': '4', 'E7': '1', 'E8': '13456', 'E9': '8', 'F1': '1345', 'F2': '13459', 'F3': '6', 'F4': '7', 'F5': '3459', 'F6': '8', 'F7': '2', 'F8': '1345', 'F9': '345', 'G1': '134', 'G2': '1347', 'G3': '2', 'G4': '6', 'G5': '478', 'G6': '9', 'G7': '5', 'G8': '1478', 'G9': '47', 'H1': '8', 'H2': '1467', 'H3': '47', 'H4': '2', 'H5': '457', 'H6': '3', 'H7': '17', 'H8': '1467', 'H9': '9', 'I1': '46', 'I2': '4679', 'I3': '5', 'I4': '4', 'I5': '1', 'I6': '47', 'I7': '3', 'I8': '24678', 'I9': '2467'}\n"
     ]
    }
   ],
   "source": [
    "def eliminate(values):\n",
    "    \"\"\"Eliminate values from peers of each box with a single value.\n",
    "\n",
    "    Go through all the boxes, and whenever there is a box with a single value,\n",
    "    eliminate this value from the set of values of all its peers.\n",
    "\n",
    "    Args:\n",
    "        values: Sudoku in dictionary form.\n",
    "    Returns:\n",
    "        Resulting Sudoku in dictionary form after eliminating values.\n",
    "    \"\"\"\n",
    "       \n",
    "    solved_values = [box for box in values.keys() if len(values[box]) == 1]\n",
    "    \n",
    "    \n",
    "    for box in solved_values:\n",
    "        digit = values[box]\n",
    "        for peer in peers[box]:\n",
    "            values[peer] = values[peer].replace(digit,'')\n",
    "    return values\n",
    "\n",
    "print(eliminate(test_values))"
   ]
  },
  {
   "cell_type": "markdown",
   "metadata": {},
   "source": [
    "### Strategy 2: The only choice"
   ]
  },
  {
   "cell_type": "code",
   "execution_count": 13,
   "metadata": {},
   "outputs": [
    {
     "name": "stdout",
     "output_type": "stream",
     "text": [
      "{'A1': '45', 'A2': '8', 'A3': '3', 'A4': '9', 'A5': '2', 'A6': '1', 'A7': '6', 'A8': '5789', 'A9': '57', 'B1': '9', 'B2': '6', 'B3': '47', 'B4': '3', 'B5': '4', 'B6': '5', 'B7': '8', 'B8': '278', 'B9': '1', 'C1': '2', 'C2': '257', 'C3': '1', 'C4': '8', 'C5': '7', 'C6': '6', 'C7': '4', 'C8': '23579', 'C9': '2357', 'D1': '345', 'D2': '345', 'D3': '8', 'D4': '1', 'D5': '3456', 'D6': '2', 'D7': '9', 'D8': '34567', 'D9': '34567', 'E1': '7', 'E2': '2', 'E3': '9', 'E4': '5', 'E5': '34569', 'E6': '4', 'E7': '1', 'E8': '13456', 'E9': '8', 'F1': '1345', 'F2': '13459', 'F3': '6', 'F4': '7', 'F5': '3459', 'F6': '8', 'F7': '2', 'F8': '1345', 'F9': '345', 'G1': '134', 'G2': '1347', 'G3': '2', 'G4': '6', 'G5': '8', 'G6': '9', 'G7': '5', 'G8': '1478', 'G9': '47', 'H1': '8', 'H2': '1467', 'H3': '47', 'H4': '2', 'H5': '5', 'H6': '3', 'H7': '17', 'H8': '6', 'H9': '9', 'I1': '6', 'I2': '9', 'I3': '5', 'I4': '4', 'I5': '1', 'I6': '7', 'I7': '3', 'I8': '8', 'I9': '2'}\n"
     ]
    }
   ],
   "source": [
    "def only_choice(values):\n",
    "    \"\"\"Finalize all values that are the only choice for a unit.\n",
    "\n",
    "    Go through all the units, and whenever there is a unit with a value\n",
    "    that only fits in one box, assign the value to this box.\n",
    "\n",
    "    Input: Sudoku in dictionary form.\n",
    "    Output: Resulting Sudoku in dictionary form after filling in only choices.\n",
    "    \"\"\"\n",
    "    for unit in unitlist:\n",
    "        for digit in '123456789':\n",
    "            dplaces = [box for box in unit if digit in values[box]]\n",
    "            if len(dplaces) == 1:\n",
    "                values[dplaces[0]] = digit\n",
    "    return values\n",
    "\n",
    "print(only_choice(test_values))"
   ]
  },
  {
   "cell_type": "code",
   "execution_count": 14,
   "metadata": {},
   "outputs": [
    {
     "name": "stdout",
     "output_type": "stream",
     "text": [
      "{'A1': '4', 'A2': '8', 'A3': '3', 'A4': '9', 'A5': '2', 'A6': '1', 'A7': '6', 'A8': '5', 'A9': '7', 'B1': '9', 'B2': '6', 'B3': '7', 'B4': '3', 'B5': '4', 'B6': '5', 'B7': '8', 'B8': '2', 'B9': '1', 'C1': '2', 'C2': '5', 'C3': '1', 'C4': '8', 'C5': '7', 'C6': '6', 'C7': '4', 'C8': '9', 'C9': '3', 'D1': '5', 'D2': '4', 'D3': '8', 'D4': '1', 'D5': '3', 'D6': '2', 'D7': '9', 'D8': '7', 'D9': '6', 'E1': '7', 'E2': '2', 'E3': '9', 'E4': '5', 'E5': '6', 'E6': '4', 'E7': '1', 'E8': '3', 'E9': '8', 'F1': '1', 'F2': '3', 'F3': '6', 'F4': '7', 'F5': '9', 'F6': '8', 'F7': '2', 'F8': '4', 'F9': '5', 'G1': '3', 'G2': '7', 'G3': '2', 'G4': '6', 'G5': '8', 'G6': '9', 'G7': '5', 'G8': '1', 'G9': '4', 'H1': '8', 'H2': '1', 'H3': '4', 'H4': '2', 'H5': '5', 'H6': '3', 'H7': '7', 'H8': '6', 'H9': '9', 'I1': '6', 'I2': '9', 'I3': '5', 'I4': '4', 'I5': '1', 'I6': '7', 'I7': '3', 'I8': '8', 'I9': '2'}\n"
     ]
    }
   ],
   "source": [
    "def reduce_puzzle(values):\n",
    "    stalled = False\n",
    "    while not stalled:\n",
    "        # Check how many boxes have a determined value\n",
    "        solved_values_before = len([box for box in values.keys() if len(values[box]) == 1])\n",
    "\n",
    "        # Your code here: Use the Eliminate Strategy\n",
    "        values = eliminate(values)\n",
    "\n",
    "        # Your code here: Use the Only Choice Strategy\n",
    "        values = only_choice(values)\n",
    "        \n",
    "        # Check how many boxes have a determined value, to compare\n",
    "        solved_values_after = len([box for box in values.keys() if len(values[box]) == 1])\n",
    "        \n",
    "        # If no new values were added, stop the loop.\n",
    "        stalled = solved_values_before == solved_values_after\n",
    "        \n",
    "        # Sanity check, return False if there is a box with zero available values:\n",
    "        if len([box for box in values.keys() if len(values[box]) == 0]):\n",
    "            return False\n",
    "    return values\n",
    "\n",
    "\n",
    "print(reduce_puzzle(test_values))"
   ]
  },
  {
   "cell_type": "markdown",
   "metadata": {},
   "source": [
    "### Harder Sudoku --> Strategy 3: Search\n",
    "\n",
    "Let's try the algorithm with a more complex figure, that means more missing positions, therefore less contraints. As you may see there are more chances for each box. In order to find a solution we need to use another strategy called Search. This strategy allows us to build a graph of nodes, containing the possible chances (decisions) and possible solutions, depending on the decision taken. To move throughout the graph we use Depth First Search, that means you only move along a branch of the same parent instead of jumping from one sibling to another. "
   ]
  },
  {
   "cell_type": "code",
   "execution_count": 15,
   "metadata": {},
   "outputs": [
    {
     "name": "stdout",
     "output_type": "stream",
     "text": [
      "{'A1': '4', 'A2': '1679', 'A3': '12679', 'A4': '139', 'A5': '2369', 'A6': '269', 'A7': '8', 'A8': '1239', 'A9': '5', 'B1': '26789', 'B2': '3', 'B3': '1256789', 'B4': '14589', 'B5': '24569', 'B6': '245689', 'B7': '12679', 'B8': '1249', 'B9': '124679', 'C1': '2689', 'C2': '15689', 'C3': '125689', 'C4': '7', 'C5': '234569', 'C6': '245689', 'C7': '12369', 'C8': '12349', 'C9': '123469', 'D1': '3789', 'D2': '2', 'D3': '15789', 'D4': '3459', 'D5': '34579', 'D6': '4579', 'D7': '13579', 'D8': '6', 'D9': '13789', 'E1': '3679', 'E2': '15679', 'E3': '15679', 'E4': '359', 'E5': '8', 'E6': '25679', 'E7': '4', 'E8': '12359', 'E9': '12379', 'F1': '36789', 'F2': '4', 'F3': '56789', 'F4': '359', 'F5': '1', 'F6': '25679', 'F7': '23579', 'F8': '23589', 'F9': '23789', 'G1': '289', 'G2': '89', 'G3': '289', 'G4': '6', 'G5': '459', 'G6': '3', 'G7': '1259', 'G8': '7', 'G9': '12489', 'H1': '5', 'H2': '6789', 'H3': '3', 'H4': '2', 'H5': '479', 'H6': '1', 'H7': '69', 'H8': '489', 'H9': '4689', 'I1': '1', 'I2': '6789', 'I3': '4', 'I4': '589', 'I5': '579', 'I6': '5789', 'I7': '23569', 'I8': '23589', 'I9': '23689'}\n"
     ]
    }
   ],
   "source": [
    "grid2 = '4.....8.5.3..........7......2.....6.....8.4......1.......6.3.7.5..2.....1.4......'\n",
    "\n",
    "hs_values = grid_values(grid2)\n",
    "\n",
    "print(reduce_puzzle(hs_values))"
   ]
  },
  {
   "cell_type": "code",
   "execution_count": 18,
   "metadata": {},
   "outputs": [
    {
     "name": "stdout",
     "output_type": "stream",
     "text": [
      "{'A1': '4', 'A2': '1', 'A3': '7', 'A4': '3', 'A5': '6', 'A6': '9', 'A7': '8', 'A8': '2', 'A9': '5', 'B1': '6', 'B2': '3', 'B3': '2', 'B4': '1', 'B5': '5', 'B6': '8', 'B7': '9', 'B8': '4', 'B9': '7', 'C1': '9', 'C2': '5', 'C3': '8', 'C4': '7', 'C5': '2', 'C6': '4', 'C7': '3', 'C8': '1', 'C9': '6', 'D1': '8', 'D2': '2', 'D3': '5', 'D4': '4', 'D5': '3', 'D6': '7', 'D7': '1', 'D8': '6', 'D9': '9', 'E1': '7', 'E2': '9', 'E3': '1', 'E4': '5', 'E5': '8', 'E6': '6', 'E7': '4', 'E8': '3', 'E9': '2', 'F1': '3', 'F2': '4', 'F3': '6', 'F4': '9', 'F5': '1', 'F6': '2', 'F7': '7', 'F8': '5', 'F9': '8', 'G1': '2', 'G2': '8', 'G3': '9', 'G4': '6', 'G5': '4', 'G6': '3', 'G7': '5', 'G8': '7', 'G9': '1', 'H1': '5', 'H2': '7', 'H3': '3', 'H4': '2', 'H5': '9', 'H6': '1', 'H7': '6', 'H8': '8', 'H9': '4', 'I1': '1', 'I2': '6', 'I3': '4', 'I4': '8', 'I5': '7', 'I6': '5', 'I7': '2', 'I8': '9', 'I9': '3'}\n"
     ]
    }
   ],
   "source": [
    "# Depth First Search (DFS)\n",
    "\n",
    "def search(values):\n",
    "    \"Using depth-first search and propagation, try all possible values.\"\n",
    "    \n",
    "    # First, reduce the puzzle using the previous function\n",
    "    values = reduce_puzzle(values)\n",
    "    \n",
    "    if values is False:\n",
    "        return False ## Failed earlier\n",
    "    \n",
    "    if all(len(values[s]) == 1 for s in boxes): \n",
    "        return values ## Solved!\n",
    "    \n",
    "    # Choose one of the unfilled squares with the fewest possibilities\n",
    "    n,s = min((len(values[s]), s) for s in boxes if len(values[s]) > 1)\n",
    "    \n",
    "    # Now use recurrence to solve each one of the resulting sudokus, and \n",
    "    \n",
    "    for value in values[s]:\n",
    "        new_sudoku = values.copy()\n",
    "        new_sudoku[s] = value\n",
    "        attempt = search(new_sudoku)\n",
    "        if attempt:\n",
    "            return attempt\n",
    "        \n",
    "        \n",
    "print(search(hs_values))        "
   ]
  },
  {
   "cell_type": "code",
   "execution_count": 44,
   "metadata": {},
   "outputs": [
    {
     "name": "stdout",
     "output_type": "stream",
     "text": [
      "{'A1': '2', 'A2': '6', 'A3': '7', 'A4': '9', 'A5': '4', 'A6': '5', 'A7': '3', 'A8': '8', 'A9': '1', 'B1': '8', 'B2': '5', 'B3': '3', 'B4': '7', 'B5': '1', 'B6': '6', 'B7': '2', 'B8': '4', 'B9': '9', 'C1': '4', 'C2': '9', 'C3': '1', 'C4': '8', 'C5': '2', 'C6': '3', 'C7': '5', 'C8': '7', 'C9': '6', 'D1': '5', 'D2': '7', 'D3': '6', 'D4': '4', 'D5': '3', 'D6': '8', 'D7': '1', 'D8': '9', 'D9': '2', 'E1': '3', 'E2': '8', 'E3': '4', 'E4': '1', 'E5': '9', 'E6': '2', 'E7': '6', 'E8': '5', 'E9': '7', 'F1': '1', 'F2': '2', 'F3': '9', 'F4': '6', 'F5': '5', 'F6': '7', 'F7': '4', 'F8': '3', 'F9': '8', 'G1': '6', 'G2': '4', 'G3': '2', 'G4': '3', 'G5': '7', 'G6': '9', 'G7': '8', 'G8': '1', 'G9': '5', 'H1': '9', 'H2': '3', 'H3': '5', 'H4': '2', 'H5': '8', 'H6': '1', 'H7': '7', 'H8': '6', 'H9': '4', 'I1': '7', 'I2': '1', 'I3': '8', 'I4': '5', 'I5': '6', 'I6': '4', 'I7': '9', 'I8': '2', 'I9': '3'}\n"
     ]
    }
   ],
   "source": [
    "assignments = []\n",
    "\n",
    "rows = 'ABCDEFGHI'\n",
    "cols = '123456789'\n",
    "\n",
    "\n",
    "def cross(A, B):\n",
    "    \"Cross product of elements in A and elements in B.\"\n",
    "    return [s+t for s in A for t in B]\n",
    "\n",
    "# Define boxes, rows and cols units that will compose the grid\n",
    "boxes = cross(rows, cols)\n",
    "row_units = [cross(r, cols) for r in rows]\n",
    "column_units = [cross(rows, c) for c in cols]\n",
    "square_units = [cross(rs, cs) for rs in ('ABC','DEF','GHI') for cs in ('123','456','789')]\n",
    "# Define the diagonal units \n",
    "diagonal_units = [[rows[i] + cols[i] for i in range(len(rows))]] + [[rows[i]+cols[::-1][i] for i in range(len(rows))]]\n",
    "\n",
    "# Add the diagonal units to the unit list\n",
    "unitlist = row_units + column_units + square_units + diagonal_units\n",
    "units = dict((s, [u for u in unitlist if s in u]) for s in boxes)\n",
    "peers = dict((s, set(sum(units[s],[])) - set([s])) for s in boxes)\n",
    "\n",
    "\n",
    "def assign_value(values, box, value):\n",
    "    \"\"\"\n",
    "    Please use this function to update your values dictionary!\n",
    "    Assigns a value to a given box. If it updates the board record it.\n",
    "    \"\"\"\n",
    "\n",
    "    # Don't waste memory appending actions that don't actually change any values\n",
    "    if values[box] == value:\n",
    "        return values\n",
    "\n",
    "    values[box] = value\n",
    "    if len(value) == 1:\n",
    "        assignments.append(values.copy())\n",
    "    return values\n",
    "\n",
    "def naked_twins(values):\n",
    "    \"\"\"Eliminate values using the naked twins strategy.\n",
    "    Args:\n",
    "        values(dict): a dictionary of the form {'box_name': '123456789', ...}\n",
    "\n",
    "    Returns:\n",
    "        the values dictionary with the naked twins eliminated from peers.\n",
    "    \"\"\"\n",
    "\n",
    "    # Find all instances of naked twins\n",
    "    # Eliminate the naked twins as possibilities for their peers\n",
    "\n",
    "    # Find boxes with 2 candidates \n",
    "    _twins = [box for box in values.keys() if len(values[box]) == 2]\n",
    "\n",
    "    # Find the naked twins and create a list of lists. Example [[A1:3, A1:2], [A2:3, A2:2]]\n",
    "    naked_twins = [[box1, box2] for box1 in _twins for box2 in peers[box1] if set(values[box1]) == set(values[box2])]\n",
    "\n",
    "    # Since we can only have two boxes with the same two candidates (naked-twins), range is 0,2\n",
    "\n",
    "    for i in range(0, 2):\n",
    "        box1 = naked_twins[i][0]\n",
    "        box2 = naked_twins[i][1]\n",
    "        \n",
    "              \n",
    "        # Find peers\n",
    "        peers1 = set(peers[box1])\n",
    "        peers2 = set(peers[box2])\n",
    "        peers_int = peers1 + peers2\n",
    "        \n",
    "        for peer_val in peers_int:\n",
    "            if len(values[peer_val]) > 1:\n",
    "                inner = values[box1]\n",
    "                for rm_val in inner:\n",
    "                    values = assign_value(values, peer_val, values[peer_val].replace(rm_val, ''))\n",
    "    return values\n",
    "\n",
    "\n",
    "def grid_values(grid):\n",
    "    \"\"\"\n",
    "    Convert grid into a dict of {square: char} with '123456789' for empties.\n",
    "    Args:\n",
    "        grid(string) - A grid in string form.\n",
    "    Returns:\n",
    "        A grid in dictionary form\n",
    "            Keys: The boxes, e.g., 'A1'\n",
    "            Values: The value in each box, e.g., '8'. If the box has no value, then the value will be '123456789'.\n",
    "    \"\"\"\n",
    "    \n",
    "    chars = []\n",
    "    digits = '123456789'\n",
    "    for c in grid:\n",
    "        if c in digits:\n",
    "            chars.append(c)\n",
    "        if c == '.':\n",
    "            chars.append(digits)\n",
    "    assert len(chars) == 81\n",
    "    return dict(zip(boxes, chars))\n",
    "\n",
    "\n",
    "\n",
    "\n",
    "def display(values):\n",
    "    \"\"\"\n",
    "    Display the values as a 2-D grid.\n",
    "    Args:\n",
    "        values(dict): The sudoku in dictionary form\n",
    "    \"\"\"\n",
    "    \n",
    "    width = 1+max(len(values[s]) for s in boxes)\n",
    "    line = '+'.join(['-'*(width*3)]*3)\n",
    "    for r in rows:\n",
    "        print(''.join(values[r+c].center(width)+('|' if c in '36' else '')\n",
    "                      for c in cols))\n",
    "        if r in 'CF': print(line)\n",
    "    return\n",
    "\n",
    "\n",
    "def eliminate(values):\n",
    "    \n",
    "    solved_values = [box for box in values.keys() if len(values[box]) == 1]\n",
    "    for box in solved_values:\n",
    "        digit = values[box]\n",
    "        for peer in peers[box]:\n",
    "            # values[peer] = values[peer].replace(digit,'')\n",
    "\n",
    "            # def assign_value(values, box, value):\n",
    "            values = assign_value(values, peer, values[peer].replace(digit, ''))\n",
    "    return values\n",
    "\n",
    "def only_choice(values):\n",
    "    for unit in unitlist:\n",
    "        for digit in cols:\n",
    "            dplaces = [box for box in unit if digit in values[box]]\n",
    "            if len(dplaces) == 1:\n",
    "                # values[dplaces[0]] = digit\n",
    "                values = assign_value(values, dplaces[0], digit)\n",
    "    return values\n",
    "\n",
    "def reduce_puzzle(values):\n",
    "    stalled = False\n",
    "    while not stalled:\n",
    "        # Check how many boxes have a determined value\n",
    "        solved_values_before = len([box for box in values.keys() if len(values[box]) == 1])\n",
    "\n",
    "        # Use the Eliminate Strategy\n",
    "        values = eliminate(values)\n",
    "\n",
    "        # Use the Only Choice Strategy\n",
    "        values = only_choice(values)\n",
    "\n",
    "        # Use the Naked Twins Strategy\n",
    "        values = only_choice(values)\n",
    "        \n",
    "        # Check how many boxes have a determined value, to compare\n",
    "        solved_values_after = len([box for box in values.keys() if len(values[box]) == 1])\n",
    "        \n",
    "        # If no new values were added, stop the loop.\n",
    "        stalled = solved_values_before == solved_values_after\n",
    "        \n",
    "        # Sanity check, return False if there is a box with zero available values:\n",
    "        if len([box for box in values.keys() if len(values[box]) == 0]):\n",
    "            return False\n",
    "    return values\n",
    "\n",
    "def search(values):\n",
    "    \n",
    "    # First, reduce the puzzle using the previous function\n",
    "    values = reduce_puzzle(values)\n",
    "    \n",
    "    if values is False:\n",
    "        return False ## Failed earlier\n",
    "    \n",
    "    if all(len(values[s]) == 1 for s in boxes): \n",
    "        return values ## Solved!\n",
    "    \n",
    "    # Choose one of the unfilled squares with the fewest possibilities\n",
    "    n,s = min((len(values[s]), s) for s in boxes if len(values[s]) > 1)\n",
    "    \n",
    "    # Now use recurrence to solve each one of the resulting sudokus, and \n",
    "    \n",
    "    for value in values[s]:\n",
    "        new_sudoku = values.copy()\n",
    "        new_sudoku[s] = value\n",
    "        attempt = search(new_sudoku)\n",
    "        if attempt:\n",
    "            return attempt\n",
    "\n",
    "def solve(grid):\n",
    "    \"\"\"\n",
    "    Find the solution to a Sudoku grid.\n",
    "    Args:\n",
    "        grid(string): a string representing a sudoku grid.\n",
    "            Example: '2.............62....1....7...6..8...3...9...7...6..4...4....8....52.............3'\n",
    "    Returns:\n",
    "        The dictionary representation of the final sudoku grid. False if no solution exists.\n",
    "    \"\"\"\n",
    "    return search(grid_values(grid))        \n",
    "\n",
    "\n",
    "diag_sudoku_grid = '2.............62....1....7...6..8...3...9...7...6..4...4....8....52.............3'\n",
    "\n",
    "print(solve(diag_sudoku_grid))"
   ]
  },
  {
   "cell_type": "markdown",
   "metadata": {
    "collapsed": true
   },
   "source": [
    "Further reading: \n",
    "\n",
    "http://norvig.com/sudoku.html"
   ]
  }
 ],
 "metadata": {
  "kernelspec": {
   "display_name": "Python 3",
   "language": "python",
   "name": "python3"
  },
  "language_info": {
   "codemirror_mode": {
    "name": "ipython",
    "version": 3
   },
   "file_extension": ".py",
   "mimetype": "text/x-python",
   "name": "python",
   "nbconvert_exporter": "python",
   "pygments_lexer": "ipython3",
   "version": "3.6.1"
  }
 },
 "nbformat": 4,
 "nbformat_minor": 2
}
